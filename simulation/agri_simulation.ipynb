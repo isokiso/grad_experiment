{
 "cells": [
  {
   "cell_type": "code",
   "execution_count": 1,
   "metadata": {},
   "outputs": [
    {
     "name": "stderr",
     "output_type": "stream",
     "text": [
      "Platform not recognized, using system temp directory for PCSE settings.\n",
      "Platform not recognized, using system temp directory for PCSE settings.\n"
     ]
    },
    {
     "name": "stdout",
     "output_type": "stream",
     "text": [
      "This notebook was built with:\n",
      "python version: 3.6.3 (default, Nov 10 2017, 18:38:13) \n",
      "[GCC 4.2.1 Compatible Apple LLVM 9.0.0 (clang-900.0.37)] \n",
      "PCSE version: 5.4.1\n"
     ]
    }
   ],
   "source": [
    "%matplotlib inline\n",
    "import sys, os\n",
    "import matplotlib\n",
    "matplotlib.style.use(\"ggplot\")\n",
    "import matplotlib.pyplot as plt\n",
    "import pandas as pd\n",
    "\n",
    "data_dir = os.path.join(os.getcwd(), \"data\")\n",
    "import pcse\n",
    "print(\"This notebook was built with:\")\n",
    "print(\"python version: %s \" % sys.version)\n",
    "print(\"PCSE version: %s\" %  pcse.__version__)"
   ]
  },
  {
   "cell_type": "code",
   "execution_count": 2,
   "metadata": {},
   "outputs": [
    {
     "name": "stdout",
     "output_type": "stream",
     "text": [
      "** $Id: sug0601.cab 1.3 1997/09/25 14:07:02 LEM release $\n",
      "** File SUG0601.CAB\n",
      "** CROP DATA FILE for use with WOFOST Version 5.4, June 1992\n",
      "**\n",
      "** SUGAR BEET 601\n",
      "** Regions : Germany, Northern and Central France, Netherlands, Belgium,\n",
      "**           Luxembourg, UK, Ireland, Denmark\n",
      "** Sowing date : between 1 and 10 April\n",
      "** mean date of harvest : between 17 and 27 October\n",
      "** Derived from SUCROS87 data set for sugar beet.\n",
      "** Calibrated for use in WOFOST model at the Centre for Agrobiological\n",
      "** Research (CABO-DLO) for the simulation of crop growth and yield on the\n",
      "** basis of daily weather data.\n",
      "** Purpose of application: Crop growth monitoring with agrometeorological\n",
      "** model in the EC.\n",
      "** Developed in the framework of JRC Agriculture Project Action 3.\n",
      "------------------------------------\n",
      "TBASEM: 20.0 <class 'float'>\n",
      "TEFFMX: 30.0 <class 'float'>\n",
      "TSUMEM: 90.0 <class 'float'>\n",
      "IDSL: 0 <class 'int'>\n",
      "DLO: -99.0 <class 'float'>\n",
      "DLC: -99.0 <class 'float'>\n",
      "TSUM1: 650.0 <class 'float'>\n",
      "TSUM2: 1400.0 <class 'float'>\n",
      "DVSI: 0.0 <class 'float'>\n",
      "DVSEND: 2.0 <class 'float'>\n",
      "TDWI: 0.51 <class 'float'>\n",
      "LAIEM: 0.0007 <class 'float'>\n",
      "RGRLAI: 0.016 <class 'float'>\n",
      "SPA: 0.0 <class 'float'>\n",
      "SPAN: 35.0 <class 'float'>\n",
      "TBASE: 3.0 <class 'float'>\n",
      "CVL: 0.72 <class 'float'>\n",
      "CVO: 0.82 <class 'float'>\n",
      "CVR: 0.72 <class 'float'>\n",
      "CVS: 0.69 <class 'float'>\n",
      "Q10: 2.0 <class 'float'>\n",
      "RML: 0.03 <class 'float'>\n",
      "RMO: 0.003 <class 'float'>\n",
      "RMR: 0.015 <class 'float'>\n",
      "RMS: 0.015 <class 'float'>\n",
      "PERDL: 0.03 <class 'float'>\n",
      "CFET: 1.0 <class 'float'>\n",
      "DEPNR: 2.0 <class 'float'>\n",
      "IAIRDU: 0 <class 'int'>\n",
      "IOX: 0 <class 'int'>\n",
      "RDI: 10.0 <class 'float'>\n",
      "RRI: 1.2 <class 'float'>\n",
      "RDMCR: 120.0 <class 'float'>\n",
      "NMINSO: 0.006 <class 'float'>\n",
      "NMINVE: 0.018 <class 'float'>\n",
      "NMAXSO: 0.013 <class 'float'>\n",
      "NMAXVE: 0.028 <class 'float'>\n",
      "PMINSO: 0.0008 <class 'float'>\n",
      "PMINVE: 0.0015 <class 'float'>\n",
      "PMAXSO: 0.0018 <class 'float'>\n",
      "PMAXVE: 0.0032 <class 'float'>\n",
      "KMINSO: 0.006 <class 'float'>\n",
      "KMINVE: 0.018 <class 'float'>\n",
      "KMAXSO: 0.013 <class 'float'>\n",
      "KMAXVE: 0.036 <class 'float'>\n",
      "YZERO: 0.0 <class 'float'>\n",
      "NFIX: 0.0 <class 'float'>\n",
      "CRPNAM: Sugar beet 601, N-EC <class 'str'>\n",
      "DTSMTB: [0.0, 0.0, 3.0, 0.0, 21.0, 18.0, 35.0, 18.0] <class 'list'>\n",
      "SLATB: [0.0, 0.002, 2.0, 0.002] <class 'list'>\n",
      "SSATB: [0.0, 0.0, 2.0, 0.0] <class 'list'>\n",
      "KDIFTB: [0.0, 0.69, 2.0, 0.69] <class 'list'>\n",
      "EFFTB: [0.0, 0.45, 40.0, 0.45] <class 'list'>\n",
      "AMAXTB: [0.0, 22.5, 1.0, 45.0, 1.13, 45.0, 1.8, 36.0, 2.0, 36.0] <class 'list'>\n",
      "TMPFTB: [0.0, 0.01, 3.0, 0.01, 10.0, 0.8, 15.0, 1.0, 20.0, 1.0, 30.0, 0.95, 35.0, 0.83, 40.0, 0.6] <class 'list'>\n",
      "TMNFTB: [0.0, 0.0, 3.0, 1.0] <class 'list'>\n",
      "RFSETB: [0.0, 1.0, 2.0, 1.0] <class 'list'>\n",
      "FRTB: [0.0, 0.2, 0.91, 0.29, 1.0, 0.3, 1.15, 0.15, 1.29, 0.09, 1.3, 0.09, 1.57, 0.08, 1.92, 0.01, 2.0, 0.02] <class 'list'>\n",
      "FLTB: [0.0, 0.85, 1.0, 0.5, 1.3, 0.05, 1.57, 0.05, 2.0, 0.05] <class 'list'>\n",
      "FSTB: [0.0, 0.15, 1.0, 0.5, 1.3, 0.1, 1.57, 0.1, 1.92, 0.05, 2.0, 0.05] <class 'list'>\n",
      "FOTB: [0.0, 0.0, 1.0, 0.0, 1.3, 0.85, 1.57, 0.85, 1.92, 0.9, 2.0, 0.9] <class 'list'>\n",
      "RDRRTB: [0.0, 0.0, 1.5, 0.0, 1.5001, 0.02, 2.0, 0.02] <class 'list'>\n",
      "RDRSTB: [0.0, 0.0, 1.5, 0.0, 1.5001, 0.02, 2.0, 0.02] <class 'list'>\n",
      "\n"
     ]
    }
   ],
   "source": [
    "##作物パラメータ\n",
    "from pcse.fileinput import CABOFileReader\n",
    "cropfile = os.path.join(data_dir, 'crop', 'crop_custom.crop')\n",
    "cropdata = CABOFileReader(cropfile)\n",
    "print(cropdata)"
   ]
  },
  {
   "cell_type": "code",
   "execution_count": 3,
   "metadata": {},
   "outputs": [
    {
     "name": "stdout",
     "output_type": "stream",
     "text": [
      "** $Id: ec3.new 1.2 1997/09/18 17:33:54 LEM release $\n",
      "**\n",
      "** SOIL DATA FILE for use with WOFOST Version 5.0, June 1990\n",
      "**\n",
      "** EC3-medium fine\n",
      "------------------------------------\n",
      "SMW: 0.1 <class 'float'>\n",
      "SMFCF: 0.5 <class 'float'>\n",
      "SM0: 0.9 <class 'float'>\n",
      "CRAIRC: 0.06 <class 'float'>\n",
      "K0: 25.586 <class 'float'>\n",
      "SOPE: 0 <class 'int'>\n",
      "KSUB: 0 <class 'int'>\n",
      "SPADS: 0.1 <class 'float'>\n",
      "SPODS: 0.03 <class 'float'>\n",
      "SPASS: 0.2 <class 'float'>\n",
      "SPOSS: 0.05 <class 'float'>\n",
      "DEFLIM: -0.3 <class 'float'>\n",
      "RDMSOL: 120 <class 'int'>\n",
      "SOLNAM: EC3-medium fine <class 'str'>\n",
      "SMTAB: [-1.0, 0.1, 1.0, 0.108, 1.3, 0.389] <class 'list'>\n",
      "CONTAB: [0.0, 0.408, 1.0, -0.507, 1.3, -0.215] <class 'list'>\n",
      "\n"
     ]
    }
   ],
   "source": [
    "##土壌パラメータ\n",
    "##soil = pcse.soil.WaterbalancePP(2004/1/1,0.300)\n",
    "##print(soil)\n",
    "soilfile = os.path.join(data_dir, 'soil', 'custom.soil')\n",
    "soildata = CABOFileReader(soilfile)\n",
    "print(soildata)"
   ]
  },
  {
   "cell_type": "code",
   "execution_count": 4,
   "metadata": {},
   "outputs": [
    {
     "name": "stdout",
     "output_type": "stream",
     "text": [
      "{'IFUNRN': 0, 'NOTINF': 0, 'SSI': 0.0, 'SSMAX': 0.0, 'WAV': 100.0, 'SMLIM': 0.4, 'CO2': 360.0}\n"
     ]
    }
   ],
   "source": [
    "##サイトパラメータ\n",
    "from pcse.util import WOFOST71SiteDataProvider\n",
    "sitedata = WOFOST71SiteDataProvider(WAV=100, CO2=360)\n",
    "print(sitedata)"
   ]
  },
  {
   "cell_type": "code",
   "execution_count": 5,
   "metadata": {},
   "outputs": [],
   "source": [
    "##パラメータの統合\n",
    "from pcse.base_classes import ParameterProvider\n",
    "parameters = ParameterProvider(cropdata=cropdata, soildata=soildata, sitedata=sitedata)"
   ]
  },
  {
   "cell_type": "code",
   "execution_count": 6,
   "metadata": {},
   "outputs": [
    {
     "name": "stdout",
     "output_type": "stream",
     "text": [
      "!!python/object/new:pcse.fileinput.yaml_agro_loader.YAMLAgroManagementReader\n",
      "listitems:\n",
      "- 2004-01-01:\n",
      "    CropCalendar:\n",
      "      crop_end_date: 2004-03-30\n",
      "      crop_end_type: earliest\n",
      "      crop_name: spring-wheat\n",
      "      crop_start_date: 2004-01-01\n",
      "      crop_start_type: emergence\n",
      "      max_duration: 300\n",
      "      variety_name: spring-wheat-1\n",
      "    StateEvents: null\n",
      "    TimedEvents:\n",
      "    - comment: All nitrogen amounts in g N m-2\n",
      "      event_signal: apply_n\n",
      "      events_table:\n",
      "      - 2004-01-10:\n",
      "          amount: 0\n",
      "          recovery: 0.7\n",
      "      - 2004-02-05:\n",
      "          amount: 0\n",
      "          recovery: 0.7\n",
      "      name: Nitrogen application table\n",
      "\n"
     ]
    }
   ],
   "source": [
    "##アグロマネジメント\n",
    "from pcse.fileinput import YAMLAgroManagementReader\n",
    "agromanagement_file = os.path.join(data_dir, 'agro', 'custom.agro')\n",
    "agromanagement = YAMLAgroManagementReader(agromanagement_file)\n",
    "print(agromanagement)"
   ]
  },
  {
   "cell_type": "code",
   "execution_count": 7,
   "metadata": {},
   "outputs": [],
   "source": [
    "\n",
    "##気象データ\n",
    "from pcse.fileinput import ExcelWeatherDataProvider\n",
    "weatherfile_path = os.path.join(data_dir, 'meteo', 'weather_custom.xlsx')\n",
    "wdp = ExcelWeatherDataProvider(weatherfile_path)"
   ]
  },
  {
   "cell_type": "code",
   "execution_count": 8,
   "metadata": {},
   "outputs": [],
   "source": [
    "##モデルの初期化\n",
    "from pcse.models import Wofost71_WLP_FD\n",
    "wofsim = Wofost71_WLP_FD(parameters, wdp, agromanagement)"
   ]
  },
  {
   "cell_type": "code",
   "execution_count": 11,
   "metadata": {},
   "outputs": [
    {
     "data": {
      "text/html": [
       "<div>\n",
       "<style scoped>\n",
       "    .dataframe tbody tr th:only-of-type {\n",
       "        vertical-align: middle;\n",
       "    }\n",
       "\n",
       "    .dataframe tbody tr th {\n",
       "        vertical-align: top;\n",
       "    }\n",
       "\n",
       "    .dataframe thead th {\n",
       "        text-align: right;\n",
       "    }\n",
       "</style>\n",
       "<table border=\"1\" class=\"dataframe\">\n",
       "  <thead>\n",
       "    <tr style=\"text-align: right;\">\n",
       "      <th></th>\n",
       "      <th>DVS</th>\n",
       "      <th>LAI</th>\n",
       "      <th>RD</th>\n",
       "      <th>SM</th>\n",
       "      <th>TAGP</th>\n",
       "      <th>TRA</th>\n",
       "      <th>TWLV</th>\n",
       "      <th>TWRT</th>\n",
       "      <th>TWSO</th>\n",
       "      <th>TWST</th>\n",
       "      <th>WWLOW</th>\n",
       "    </tr>\n",
       "    <tr>\n",
       "      <th>day</th>\n",
       "      <th></th>\n",
       "      <th></th>\n",
       "      <th></th>\n",
       "      <th></th>\n",
       "      <th></th>\n",
       "      <th></th>\n",
       "      <th></th>\n",
       "      <th></th>\n",
       "      <th></th>\n",
       "      <th></th>\n",
       "      <th></th>\n",
       "    </tr>\n",
       "  </thead>\n",
       "  <tbody>\n",
       "    <tr>\n",
       "      <th>2004-03-26</th>\n",
       "      <td>1.565000</td>\n",
       "      <td>0.000577</td>\n",
       "      <td>112.0</td>\n",
       "      <td>0.840420</td>\n",
       "      <td>1.664953</td>\n",
       "      <td>0.000151</td>\n",
       "      <td>0.817284</td>\n",
       "      <td>0.398442</td>\n",
       "      <td>0.445919</td>\n",
       "      <td>0.401750</td>\n",
       "      <td>101.327050</td>\n",
       "    </tr>\n",
       "    <tr>\n",
       "      <th>2004-03-27</th>\n",
       "      <td>1.577857</td>\n",
       "      <td>0.000548</td>\n",
       "      <td>113.2</td>\n",
       "      <td>0.840874</td>\n",
       "      <td>1.713652</td>\n",
       "      <td>0.000148</td>\n",
       "      <td>0.819719</td>\n",
       "      <td>0.402688</td>\n",
       "      <td>0.487313</td>\n",
       "      <td>0.406620</td>\n",
       "      <td>101.306895</td>\n",
       "    </tr>\n",
       "    <tr>\n",
       "      <th>2004-03-28</th>\n",
       "      <td>1.590714</td>\n",
       "      <td>0.000537</td>\n",
       "      <td>114.4</td>\n",
       "      <td>0.841320</td>\n",
       "      <td>1.778624</td>\n",
       "      <td>0.000133</td>\n",
       "      <td>0.822967</td>\n",
       "      <td>0.408217</td>\n",
       "      <td>0.542613</td>\n",
       "      <td>0.413044</td>\n",
       "      <td>101.287036</td>\n",
       "    </tr>\n",
       "    <tr>\n",
       "      <th>2004-03-29</th>\n",
       "      <td>1.603571</td>\n",
       "      <td>0.000511</td>\n",
       "      <td>115.6</td>\n",
       "      <td>0.841774</td>\n",
       "      <td>1.856794</td>\n",
       "      <td>0.000123</td>\n",
       "      <td>0.826876</td>\n",
       "      <td>0.414633</td>\n",
       "      <td>0.609289</td>\n",
       "      <td>0.420630</td>\n",
       "      <td>101.269019</td>\n",
       "    </tr>\n",
       "    <tr>\n",
       "      <th>2004-03-30</th>\n",
       "      <td>1.616429</td>\n",
       "      <td>0.000501</td>\n",
       "      <td>116.8</td>\n",
       "      <td>0.842217</td>\n",
       "      <td>1.917581</td>\n",
       "      <td>0.000130</td>\n",
       "      <td>0.829915</td>\n",
       "      <td>0.419441</td>\n",
       "      <td>0.661249</td>\n",
       "      <td>0.426417</td>\n",
       "      <td>101.250995</td>\n",
       "    </tr>\n",
       "  </tbody>\n",
       "</table>\n",
       "</div>"
      ],
      "text/plain": [
       "                 DVS       LAI     RD        SM      TAGP       TRA      TWLV  \\\n",
       "day                                                                             \n",
       "2004-03-26  1.565000  0.000577  112.0  0.840420  1.664953  0.000151  0.817284   \n",
       "2004-03-27  1.577857  0.000548  113.2  0.840874  1.713652  0.000148  0.819719   \n",
       "2004-03-28  1.590714  0.000537  114.4  0.841320  1.778624  0.000133  0.822967   \n",
       "2004-03-29  1.603571  0.000511  115.6  0.841774  1.856794  0.000123  0.826876   \n",
       "2004-03-30  1.616429  0.000501  116.8  0.842217  1.917581  0.000130  0.829915   \n",
       "\n",
       "                TWRT      TWSO      TWST       WWLOW  \n",
       "day                                                   \n",
       "2004-03-26  0.398442  0.445919  0.401750  101.327050  \n",
       "2004-03-27  0.402688  0.487313  0.406620  101.306895  \n",
       "2004-03-28  0.408217  0.542613  0.413044  101.287036  \n",
       "2004-03-29  0.414633  0.609289  0.420630  101.269019  \n",
       "2004-03-30  0.419441  0.661249  0.426417  101.250995  "
      ]
     },
     "execution_count": 11,
     "metadata": {},
     "output_type": "execute_result"
    }
   ],
   "source": [
    "##実行\n",
    "days = 60\n",
    "for day in range(days):\n",
    "    ##weatherfile_path = os.path.join(data_dir, 'meteo', 'weather_custom.xlsx')\n",
    "    ##weatherfile = open(weatherfile_path,'a')\n",
    "    ##weatherfile.close\n",
    "    ##wdp = ExcelWeatherDataProvider(weatherfile_path)\n",
    "    ##wofsim = Wofost71_WLP_FD(parameters, wdp, agromanagement)\n",
    "    wofsim.run()\n",
    "    a = wofsim.get_variable(\"STAGE\")\n",
    "##wofsim.run_till_terminate()\n",
    "df_results = pd.DataFrame(wofsim.get_output())\n",
    "df_results = df_results.set_index(\"day\")\n",
    "df_results.tail()"
   ]
  },
  {
   "cell_type": "code",
   "execution_count": 10,
   "metadata": {},
   "outputs": [
    {
     "data": {
      "image/png": "[encoded data removed]",
      "text/plain": [
       "<matplotlib.figure.Figure at 0x10804fbe0>"
      ]
     },
     "metadata": {},
     "output_type": "display_data"
    }
   ],
   "source": [
    "##可視化\n",
    "fig, axes = plt.subplots(nrows=2, ncols=2, figsize=(12,10))\n",
    "for var, ax in zip([\"DVS\", \"TAGP\", \"LAI\", \"SM\"], axes.flatten()):\n",
    "    ax.plot_date(df_results.index, df_results[var], 'b-')\n",
    "    ax.set_title(var)\n",
    "fig.autofmt_xdate()"
   ]
  },
  {
   "cell_type": "code",
   "execution_count": null,
   "metadata": {},
   "outputs": [],
   "source": []
  },
  {
   "cell_type": "code",
   "execution_count": null,
   "metadata": {},
   "outputs": [],
   "source": []
  }
 ],
 "metadata": {
  "kernelspec": {
   "display_name": "Python 3",
   "language": "python",
   "name": "python3"
  },
  "language_info": {
   "codemirror_mode": {
    "name": "ipython",
    "version": 3
   },
   "file_extension": ".py",
   "mimetype": "text/x-python",
   "name": "python",
   "nbconvert_exporter": "python",
   "pygments_lexer": "ipython3",
   "version": "3.6.3"
  }
 },
 "nbformat": 4,
 "nbformat_minor": 2
}
